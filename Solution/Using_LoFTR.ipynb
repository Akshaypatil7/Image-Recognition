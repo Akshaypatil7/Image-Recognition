{
  "nbformat": 4,
  "nbformat_minor": 0,
  "metadata": {
    "colab": {
      "name": "Using LoFTR.ipynb",
      "provenance": [],
      "collapsed_sections": []
    },
    "kernelspec": {
      "name": "python3",
      "display_name": "Python 3"
    },
    "language_info": {
      "name": "python"
    },
    "accelerator": "GPU"
  },
  "cells": [
    {
      "cell_type": "code",
      "source": [
        "# Link to the Github repository\n",
        "# https://github.com/zju3dv/LoFTR"
      ],
      "metadata": {
        "id": "zZurla1bFtGl"
      },
      "execution_count": null,
      "outputs": []
    },
    {
      "cell_type": "code",
      "metadata": {
        "id": "eCHoPjrgBFXA",
        "colab": {
          "base_uri": "https://localhost:8080/"
        },
        "outputId": "5568170f-4195-4131-ca19-5c4f4b274291"
      },
      "source": [
        "# Configure environment and grab LoFTR code.\n",
        "!rm -rf sample_data\n",
        "!pip install torch einops yacs kornia\n",
        "!git clone https://github.com/zju3dv/LoFTR --depth 1\n",
        "!mv LoFTR/* . && rm -rf LoFTR\n",
        "\n",
        "# Download pretrained weights\n",
        "!mkdir weights \n",
        "%cd weights/\n",
        "!gdown --id 1M-VD35-qdB5Iw-AtbDBCKC7hPolFW9UY  # outdoor-ds\n",
        "%cd .."
      ],
      "execution_count": 1,
      "outputs": [
        {
          "output_type": "stream",
          "name": "stdout",
          "text": [
            "Requirement already satisfied: torch in /usr/local/lib/python3.7/dist-packages (1.11.0+cu113)\n",
            "Collecting einops\n",
            "  Downloading einops-0.4.1-py3-none-any.whl (28 kB)\n",
            "Collecting yacs\n",
            "  Downloading yacs-0.1.8-py3-none-any.whl (14 kB)\n",
            "Collecting kornia\n",
            "  Downloading kornia-0.6.5-py2.py3-none-any.whl (512 kB)\n",
            "\u001b[K     |████████████████████████████████| 512 kB 8.2 MB/s \n",
            "\u001b[?25hRequirement already satisfied: typing-extensions in /usr/local/lib/python3.7/dist-packages (from torch) (4.2.0)\n",
            "Requirement already satisfied: PyYAML in /usr/local/lib/python3.7/dist-packages (from yacs) (3.13)\n",
            "Requirement already satisfied: packaging in /usr/local/lib/python3.7/dist-packages (from kornia) (21.3)\n",
            "Requirement already satisfied: pyparsing!=3.0.5,>=2.0.2 in /usr/local/lib/python3.7/dist-packages (from packaging->kornia) (3.0.9)\n",
            "Installing collected packages: yacs, kornia, einops\n",
            "Successfully installed einops-0.4.1 kornia-0.6.5 yacs-0.1.8\n",
            "Cloning into 'LoFTR'...\n",
            "remote: Enumerating objects: 173, done.\u001b[K\n",
            "remote: Counting objects: 100% (173/173), done.\u001b[K\n",
            "remote: Compressing objects: 100% (142/142), done.\u001b[K\n",
            "remote: Total 173 (delta 26), reused 142 (delta 21), pack-reused 0\u001b[K\n",
            "Receiving objects: 100% (173/173), 26.29 MiB | 26.55 MiB/s, done.\n",
            "Resolving deltas: 100% (26/26), done.\n",
            "/content/weights\n",
            "/usr/local/lib/python3.7/dist-packages/gdown/cli.py:131: FutureWarning: Option `--id` was deprecated in version 4.3.1 and will be removed in 5.0. You don't need to pass it anymore to use a file ID.\n",
            "  category=FutureWarning,\n",
            "Downloading...\n",
            "From: https://drive.google.com/uc?id=1M-VD35-qdB5Iw-AtbDBCKC7hPolFW9UY\n",
            "To: /content/weights/outdoor_ds.ckpt\n",
            "100% 46.3M/46.3M [00:01<00:00, 38.5MB/s]\n",
            "/content\n"
          ]
        }
      ]
    },
    {
      "cell_type": "code",
      "metadata": {
        "id": "DKoCr9slBQTB"
      },
      "source": [
        "import torch\n",
        "import cv2\n",
        "import numpy as np\n",
        "import matplotlib.cm as cm\n",
        "from src.utils.plotting import make_matching_figure\n",
        "from src.loftr import LoFTR, default_cfg"
      ],
      "execution_count": 2,
      "outputs": []
    },
    {
      "cell_type": "code",
      "metadata": {
        "id": "QZ16kgyeBU3H"
      },
      "source": [
        "# The default config uses dual-softmax.\n",
        "# The outdoor and indoor models share the same config.\n",
        "# You can change the default values like thr and coarse_match_type.\n",
        "matcher = LoFTR(config=default_cfg)\n",
        "matcher.load_state_dict(torch.load(\"weights/outdoor_ds.ckpt\")['state_dict'])\n",
        "matcher = matcher.eval().cuda()"
      ],
      "execution_count": 3,
      "outputs": []
    },
    {
      "cell_type": "code",
      "source": [
        "# Upload Images.zip folder and then run this cell\n",
        "!unzip /content/Images.zip -d /content/new_images"
      ],
      "metadata": {
        "id": "bFiL40BPmJxz",
        "colab": {
          "base_uri": "https://localhost:8080/"
        },
        "outputId": "69c7462f-4e07-47f5-fa98-c06f0acd33af"
      },
      "execution_count": 4,
      "outputs": [
        {
          "output_type": "stream",
          "name": "stdout",
          "text": [
            "Archive:  /content/Images.zip\n",
            "  inflating: /content/new_images/Test/test_cattle_1.jpg  \n",
            "  inflating: /content/new_images/Test/test_cattle_5.jpg  \n",
            "  inflating: /content/new_images/Database/database_cattle_18.jpg  \n",
            "  inflating: /content/new_images/Database/database_cattle_9.jpg  \n",
            "  inflating: /content/new_images/Database/database_cattle_5.jpg  \n",
            "  inflating: /content/new_images/Database/database_cattle_15.jpg  \n",
            "  inflating: /content/new_images/Database/database_cattle_19.jpg  \n",
            "  inflating: /content/new_images/Test/test_cattle_3.jpg  \n",
            "  inflating: /content/new_images/Test/test_cattle_4.jpg  \n",
            "  inflating: /content/new_images/Database/database_cattle_6.jpg  \n",
            "  inflating: /content/new_images/Database/database_cattle_4.jpg  \n",
            "  inflating: /content/new_images/Test/test_cattle_2.jpg  \n",
            "  inflating: /content/new_images/Database/database_cattle_11.jpg  \n",
            "  inflating: /content/new_images/Database/database_cattle_10.jpg  \n",
            "  inflating: /content/new_images/Database/database_cattle_1.jpg  \n",
            "  inflating: /content/new_images/Database/database_cattle_3.jpg  \n",
            "  inflating: /content/new_images/Database/database_cattle_2.jpg  \n",
            "  inflating: /content/new_images/Database/database_cattle_7.jpg  \n",
            "  inflating: /content/new_images/Database/database_cattle_8.jpg  \n",
            "  inflating: /content/new_images/Database/database_cattle_14.jpg  \n",
            "  inflating: /content/new_images/Database/database_cattle_12.jpg  \n",
            "  inflating: /content/new_images/Database/database_cattle_17.jpg  \n",
            "  inflating: /content/new_images/Database/database_cattle_16.jpg  \n",
            "  inflating: /content/new_images/Database/database_cattle_20.jpg  \n",
            "  inflating: /content/new_images/Database/database_cattle_13.jpg  \n"
          ]
        }
      ]
    },
    {
      "cell_type": "code",
      "metadata": {
        "colab": {
          "base_uri": "https://localhost:8080/"
        },
        "id": "qVFzGlsDBXdy",
        "outputId": "0db55467-a6df-4298-aba1-8b01af997e20"
      },
      "source": [
        "# Rerun this cell (and below) if a new image pair is uploaded.\n",
        "import glob\n",
        "search_dict = {}\n",
        "for i in glob.glob('/content/new_images/Test/*.jpg'):\n",
        "  scores = []\n",
        "  data_names = []\n",
        "  for z in glob.glob('/content/new_images/Database/*.jpg'):\n",
        "    img0_raw = cv2.imread(i, cv2.IMREAD_GRAYSCALE)\n",
        "    img1_raw = cv2.imread(z, cv2.IMREAD_GRAYSCALE)\n",
        "    img0_raw = cv2.resize(img0_raw, (640, 480))\n",
        "    img1_raw = cv2.resize(img1_raw, (640, 480))\n",
        "\n",
        "    img0 = torch.from_numpy(img0_raw)[None][None].cuda() / 255.\n",
        "    img1 = torch.from_numpy(img1_raw)[None][None].cuda() / 255.\n",
        "    batch = {'image0': img0, 'image1': img1}\n",
        "\n",
        "    # Inference with LoFTR and get prediction\n",
        "    with torch.no_grad():\n",
        "        matcher(batch)\n",
        "        mkpts0 = batch['mkpts0_f'].cpu().numpy()\n",
        "        mkpts1 = batch['mkpts1_f'].cpu().numpy()\n",
        "        mconf = batch['mconf'].cpu().numpy()\n",
        "    scores.append(len(mkpts0))\n",
        "    data_names.append(z)\n",
        "  search_dict[i] = scores"
      ],
      "execution_count": 5,
      "outputs": [
        {
          "output_type": "stream",
          "name": "stderr",
          "text": [
            "/content/src/loftr/utils/coarse_matching.py:246: UserWarning: __floordiv__ is deprecated, and its behavior will change in a future version of pytorch. It currently rounds toward 0 (like the 'trunc' function NOT 'floor'). This results in incorrect rounding for negative values. To keep the current behavior, use torch.div(a, b, rounding_mode='trunc'), or for actual floor division, use torch.div(a, b, rounding_mode='floor').\n",
            "  [i_ids % data['hw0_c'][1], i_ids // data['hw0_c'][1]],\n",
            "/content/src/loftr/utils/coarse_matching.py:249: UserWarning: __floordiv__ is deprecated, and its behavior will change in a future version of pytorch. It currently rounds toward 0 (like the 'trunc' function NOT 'floor'). This results in incorrect rounding for negative values. To keep the current behavior, use torch.div(a, b, rounding_mode='trunc'), or for actual floor division, use torch.div(a, b, rounding_mode='floor').\n",
            "  [j_ids % data['hw1_c'][1], j_ids // data['hw1_c'][1]],\n",
            "/usr/local/lib/python3.7/dist-packages/torch/functional.py:568: UserWarning: torch.meshgrid: in an upcoming release, it will be required to pass the indexing argument. (Triggered internally at  ../aten/src/ATen/native/TensorShape.cpp:2228.)\n",
            "  return _VF.meshgrid(tensors, **kwargs)  # type: ignore[attr-defined]\n"
          ]
        }
      ]
    },
    {
      "cell_type": "code",
      "source": [
        "import pandas as pd\n",
        "test = []\n",
        "Database = []\n",
        "for key, value in search_dict.items():\n",
        "  new_key = key.replace('/content/new_images/Test/','').split('.jpg')[0]\n",
        "  max_score_name = data_names[value.index(max(value))].replace('/content/new_images/Database/','').split('.jpg')[0]\n",
        "  print(new_key,max_score_name,max(value))\n",
        "  test.append(new_key)\n",
        "  if max(value) > 300:\n",
        "    Database.append(max_score_name)\n",
        "  else:\n",
        "    Database.append('Not Found')\n",
        "df = pd.DataFrame(list(zip(test, Database)),\n",
        "               columns =['Test Image', 'Database Image'])"
      ],
      "metadata": {
        "colab": {
          "base_uri": "https://localhost:8080/"
        },
        "id": "plgQDYSLrBgv",
        "outputId": "9134823a-e876-4785-86fd-1f726e875f20"
      },
      "execution_count": 6,
      "outputs": [
        {
          "output_type": "stream",
          "name": "stdout",
          "text": [
            "test_cattle_1 database_cattle_3 515\n",
            "test_cattle_3 database_cattle_13 618\n",
            "test_cattle_5 database_cattle_20 895\n",
            "test_cattle_4 database_cattle_5 284\n",
            "test_cattle_2 database_cattle_8 384\n"
          ]
        }
      ]
    },
    {
      "cell_type": "code",
      "source": [
        "df.to_csv('out_loftr.csv',index=False)"
      ],
      "metadata": {
        "id": "sgW2SUufy0sQ"
      },
      "execution_count": 7,
      "outputs": []
    },
    {
      "cell_type": "code",
      "source": [
        "df"
      ],
      "metadata": {
        "id": "LOkIhmcO1sPK",
        "colab": {
          "base_uri": "https://localhost:8080/",
          "height": 206
        },
        "outputId": "7e122cc6-77ca-47bc-b4ef-4c705109025d"
      },
      "execution_count": 8,
      "outputs": [
        {
          "output_type": "execute_result",
          "data": {
            "text/plain": [
              "      Test Image      Database Image\n",
              "0  test_cattle_1   database_cattle_3\n",
              "1  test_cattle_3  database_cattle_13\n",
              "2  test_cattle_5  database_cattle_20\n",
              "3  test_cattle_4           Not Found\n",
              "4  test_cattle_2   database_cattle_8"
            ],
            "text/html": [
              "\n",
              "  <div id=\"df-44a4e425-5ee9-4543-b37a-32e2b2274055\">\n",
              "    <div class=\"colab-df-container\">\n",
              "      <div>\n",
              "<style scoped>\n",
              "    .dataframe tbody tr th:only-of-type {\n",
              "        vertical-align: middle;\n",
              "    }\n",
              "\n",
              "    .dataframe tbody tr th {\n",
              "        vertical-align: top;\n",
              "    }\n",
              "\n",
              "    .dataframe thead th {\n",
              "        text-align: right;\n",
              "    }\n",
              "</style>\n",
              "<table border=\"1\" class=\"dataframe\">\n",
              "  <thead>\n",
              "    <tr style=\"text-align: right;\">\n",
              "      <th></th>\n",
              "      <th>Test Image</th>\n",
              "      <th>Database Image</th>\n",
              "    </tr>\n",
              "  </thead>\n",
              "  <tbody>\n",
              "    <tr>\n",
              "      <th>0</th>\n",
              "      <td>test_cattle_1</td>\n",
              "      <td>database_cattle_3</td>\n",
              "    </tr>\n",
              "    <tr>\n",
              "      <th>1</th>\n",
              "      <td>test_cattle_3</td>\n",
              "      <td>database_cattle_13</td>\n",
              "    </tr>\n",
              "    <tr>\n",
              "      <th>2</th>\n",
              "      <td>test_cattle_5</td>\n",
              "      <td>database_cattle_20</td>\n",
              "    </tr>\n",
              "    <tr>\n",
              "      <th>3</th>\n",
              "      <td>test_cattle_4</td>\n",
              "      <td>Not Found</td>\n",
              "    </tr>\n",
              "    <tr>\n",
              "      <th>4</th>\n",
              "      <td>test_cattle_2</td>\n",
              "      <td>database_cattle_8</td>\n",
              "    </tr>\n",
              "  </tbody>\n",
              "</table>\n",
              "</div>\n",
              "      <button class=\"colab-df-convert\" onclick=\"convertToInteractive('df-44a4e425-5ee9-4543-b37a-32e2b2274055')\"\n",
              "              title=\"Convert this dataframe to an interactive table.\"\n",
              "              style=\"display:none;\">\n",
              "        \n",
              "  <svg xmlns=\"http://www.w3.org/2000/svg\" height=\"24px\"viewBox=\"0 0 24 24\"\n",
              "       width=\"24px\">\n",
              "    <path d=\"M0 0h24v24H0V0z\" fill=\"none\"/>\n",
              "    <path d=\"M18.56 5.44l.94 2.06.94-2.06 2.06-.94-2.06-.94-.94-2.06-.94 2.06-2.06.94zm-11 1L8.5 8.5l.94-2.06 2.06-.94-2.06-.94L8.5 2.5l-.94 2.06-2.06.94zm10 10l.94 2.06.94-2.06 2.06-.94-2.06-.94-.94-2.06-.94 2.06-2.06.94z\"/><path d=\"M17.41 7.96l-1.37-1.37c-.4-.4-.92-.59-1.43-.59-.52 0-1.04.2-1.43.59L10.3 9.45l-7.72 7.72c-.78.78-.78 2.05 0 2.83L4 21.41c.39.39.9.59 1.41.59.51 0 1.02-.2 1.41-.59l7.78-7.78 2.81-2.81c.8-.78.8-2.07 0-2.86zM5.41 20L4 18.59l7.72-7.72 1.47 1.35L5.41 20z\"/>\n",
              "  </svg>\n",
              "      </button>\n",
              "      \n",
              "  <style>\n",
              "    .colab-df-container {\n",
              "      display:flex;\n",
              "      flex-wrap:wrap;\n",
              "      gap: 12px;\n",
              "    }\n",
              "\n",
              "    .colab-df-convert {\n",
              "      background-color: #E8F0FE;\n",
              "      border: none;\n",
              "      border-radius: 50%;\n",
              "      cursor: pointer;\n",
              "      display: none;\n",
              "      fill: #1967D2;\n",
              "      height: 32px;\n",
              "      padding: 0 0 0 0;\n",
              "      width: 32px;\n",
              "    }\n",
              "\n",
              "    .colab-df-convert:hover {\n",
              "      background-color: #E2EBFA;\n",
              "      box-shadow: 0px 1px 2px rgba(60, 64, 67, 0.3), 0px 1px 3px 1px rgba(60, 64, 67, 0.15);\n",
              "      fill: #174EA6;\n",
              "    }\n",
              "\n",
              "    [theme=dark] .colab-df-convert {\n",
              "      background-color: #3B4455;\n",
              "      fill: #D2E3FC;\n",
              "    }\n",
              "\n",
              "    [theme=dark] .colab-df-convert:hover {\n",
              "      background-color: #434B5C;\n",
              "      box-shadow: 0px 1px 3px 1px rgba(0, 0, 0, 0.15);\n",
              "      filter: drop-shadow(0px 1px 2px rgba(0, 0, 0, 0.3));\n",
              "      fill: #FFFFFF;\n",
              "    }\n",
              "  </style>\n",
              "\n",
              "      <script>\n",
              "        const buttonEl =\n",
              "          document.querySelector('#df-44a4e425-5ee9-4543-b37a-32e2b2274055 button.colab-df-convert');\n",
              "        buttonEl.style.display =\n",
              "          google.colab.kernel.accessAllowed ? 'block' : 'none';\n",
              "\n",
              "        async function convertToInteractive(key) {\n",
              "          const element = document.querySelector('#df-44a4e425-5ee9-4543-b37a-32e2b2274055');\n",
              "          const dataTable =\n",
              "            await google.colab.kernel.invokeFunction('convertToInteractive',\n",
              "                                                     [key], {});\n",
              "          if (!dataTable) return;\n",
              "\n",
              "          const docLinkHtml = 'Like what you see? Visit the ' +\n",
              "            '<a target=\"_blank\" href=https://colab.research.google.com/notebooks/data_table.ipynb>data table notebook</a>'\n",
              "            + ' to learn more about interactive tables.';\n",
              "          element.innerHTML = '';\n",
              "          dataTable['output_type'] = 'display_data';\n",
              "          await google.colab.output.renderOutput(dataTable, element);\n",
              "          const docLink = document.createElement('div');\n",
              "          docLink.innerHTML = docLinkHtml;\n",
              "          element.appendChild(docLink);\n",
              "        }\n",
              "      </script>\n",
              "    </div>\n",
              "  </div>\n",
              "  "
            ]
          },
          "metadata": {},
          "execution_count": 8
        }
      ]
    },
    {
      "cell_type": "code",
      "source": [
        "from google.colab import files\n",
        "files.download(\"out_loftr.csv\")"
      ],
      "metadata": {
        "colab": {
          "base_uri": "https://localhost:8080/",
          "height": 17
        },
        "id": "4p_tlx4lz8cg",
        "outputId": "0bdaafe9-f0e7-438a-ab8c-4fc1a1d60a0d"
      },
      "execution_count": 10,
      "outputs": [
        {
          "output_type": "display_data",
          "data": {
            "text/plain": [
              "<IPython.core.display.Javascript object>"
            ],
            "application/javascript": [
              "\n",
              "    async function download(id, filename, size) {\n",
              "      if (!google.colab.kernel.accessAllowed) {\n",
              "        return;\n",
              "      }\n",
              "      const div = document.createElement('div');\n",
              "      const label = document.createElement('label');\n",
              "      label.textContent = `Downloading \"${filename}\": `;\n",
              "      div.appendChild(label);\n",
              "      const progress = document.createElement('progress');\n",
              "      progress.max = size;\n",
              "      div.appendChild(progress);\n",
              "      document.body.appendChild(div);\n",
              "\n",
              "      const buffers = [];\n",
              "      let downloaded = 0;\n",
              "\n",
              "      const channel = await google.colab.kernel.comms.open(id);\n",
              "      // Send a message to notify the kernel that we're ready.\n",
              "      channel.send({})\n",
              "\n",
              "      for await (const message of channel.messages) {\n",
              "        // Send a message to notify the kernel that we're ready.\n",
              "        channel.send({})\n",
              "        if (message.buffers) {\n",
              "          for (const buffer of message.buffers) {\n",
              "            buffers.push(buffer);\n",
              "            downloaded += buffer.byteLength;\n",
              "            progress.value = downloaded;\n",
              "          }\n",
              "        }\n",
              "      }\n",
              "      const blob = new Blob(buffers, {type: 'application/binary'});\n",
              "      const a = document.createElement('a');\n",
              "      a.href = window.URL.createObjectURL(blob);\n",
              "      a.download = filename;\n",
              "      div.appendChild(a);\n",
              "      a.click();\n",
              "      div.remove();\n",
              "    }\n",
              "  "
            ]
          },
          "metadata": {}
        },
        {
          "output_type": "display_data",
          "data": {
            "text/plain": [
              "<IPython.core.display.Javascript object>"
            ],
            "application/javascript": [
              "download(\"download_5fd72f83-1e42-49cc-b94f-b6d166079058\", \"out_loftr.csv\", 180)"
            ]
          },
          "metadata": {}
        }
      ]
    },
    {
      "cell_type": "code",
      "source": [
        ""
      ],
      "metadata": {
        "id": "BQ-Ptn7ROgLp"
      },
      "execution_count": null,
      "outputs": []
    }
  ]
}